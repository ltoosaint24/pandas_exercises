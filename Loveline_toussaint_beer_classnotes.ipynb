{
  "nbformat": 4,
  "nbformat_minor": 0,
  "metadata": {
    "kernelspec": {
      "display_name": "Python 3",
      "language": "python",
      "name": "python3"
    },
    "language_info": {
      "codemirror_mode": {
        "name": "ipython",
        "version": 3
      },
      "file_extension": ".py",
      "mimetype": "text/x-python",
      "name": "python",
      "nbconvert_exporter": "python",
      "pygments_lexer": "ipython3",
      "version": "3.7.3"
    },
    "colab": {
      "name": "Loveline_toussaint beer_classnotes.ipynb",
      "provenance": [],
      "collapsed_sections": [
        "tnF04oMgPPEn"
      ],
      "include_colab_link": true
    }
  },
  "cells": [
    {
      "cell_type": "markdown",
      "metadata": {
        "id": "view-in-github",
        "colab_type": "text"
      },
      "source": [
        "<a href=\"https://colab.research.google.com/github/ltoosaint24/pandas_exercises/blob/master/Loveline_toussaint_beer_classnotes.ipynb\" target=\"_parent\"><img src=\"https://colab.research.google.com/assets/colab-badge.svg\" alt=\"Open In Colab\"/></a>"
      ]
    },
    {
      "cell_type": "code",
      "metadata": {
        "id": "1JJPizHdPPD9",
        "colab_type": "code",
        "colab": {}
      },
      "source": [
        "import pandas as pd"
      ],
      "execution_count": null,
      "outputs": []
    },
    {
      "cell_type": "markdown",
      "metadata": {
        "id": "42XhjAmuPSDH",
        "colab_type": "text"
      },
      "source": [
        "### Additional Data sources:\n",
        "* https://data.world/brettcarpenter/craft-beer-data\n",
        "* https://www.kaggle.com/rdoume/beerreviews"
      ]
    },
    {
      "cell_type": "code",
      "metadata": {
        "id": "tcwkUqU6PPEB",
        "colab_type": "code",
        "colab": {
          "base_uri": "https://localhost:8080/",
          "height": 198
        },
        "outputId": "89b874c5-77f8-4058-8824-794be5ff5c3e"
      },
      "source": [
        "beers = pd.read_csv('https://raw.githubusercontent.com/austinlasseter/pandas_exercises/master/06-feature-engineering/data/beers.csv')\n",
        "beers.head()"
      ],
      "execution_count": null,
      "outputs": [
        {
          "output_type": "execute_result",
          "data": {
            "text/html": [
              "<div>\n",
              "<style scoped>\n",
              "    .dataframe tbody tr th:only-of-type {\n",
              "        vertical-align: middle;\n",
              "    }\n",
              "\n",
              "    .dataframe tbody tr th {\n",
              "        vertical-align: top;\n",
              "    }\n",
              "\n",
              "    .dataframe thead th {\n",
              "        text-align: right;\n",
              "    }\n",
              "</style>\n",
              "<table border=\"1\" class=\"dataframe\">\n",
              "  <thead>\n",
              "    <tr style=\"text-align: right;\">\n",
              "      <th></th>\n",
              "      <th>brewery_name</th>\n",
              "      <th>beer_name</th>\n",
              "      <th>beer_style</th>\n",
              "      <th>beer_abv</th>\n",
              "      <th>num_reviews</th>\n",
              "      <th>rating</th>\n",
              "      <th>city</th>\n",
              "      <th>state</th>\n",
              "    </tr>\n",
              "  </thead>\n",
              "  <tbody>\n",
              "    <tr>\n",
              "      <th>0</th>\n",
              "      <td>21st Amendment Brewery</td>\n",
              "      <td>21 Rock</td>\n",
              "      <td>American Double / Imperial IPA</td>\n",
              "      <td>9.7</td>\n",
              "      <td>2</td>\n",
              "      <td>4.00</td>\n",
              "      <td>San Francisco</td>\n",
              "      <td>CA</td>\n",
              "    </tr>\n",
              "    <tr>\n",
              "      <th>1</th>\n",
              "      <td>21st Amendment Brewery</td>\n",
              "      <td>21st Amendment IPA</td>\n",
              "      <td>American IPA</td>\n",
              "      <td>7.0</td>\n",
              "      <td>650</td>\n",
              "      <td>3.89</td>\n",
              "      <td>San Francisco</td>\n",
              "      <td>CA</td>\n",
              "    </tr>\n",
              "    <tr>\n",
              "      <th>2</th>\n",
              "      <td>21st Amendment Brewery</td>\n",
              "      <td>21st Amendment Imperial Stout</td>\n",
              "      <td>Russian Imperial Stout</td>\n",
              "      <td>10.0</td>\n",
              "      <td>4</td>\n",
              "      <td>3.88</td>\n",
              "      <td>San Francisco</td>\n",
              "      <td>CA</td>\n",
              "    </tr>\n",
              "    <tr>\n",
              "      <th>3</th>\n",
              "      <td>21st Amendment Brewery</td>\n",
              "      <td>21st Amendment Pale Ale</td>\n",
              "      <td>American Pale Ale (APA)</td>\n",
              "      <td>5.5</td>\n",
              "      <td>7</td>\n",
              "      <td>3.86</td>\n",
              "      <td>San Francisco</td>\n",
              "      <td>CA</td>\n",
              "    </tr>\n",
              "    <tr>\n",
              "      <th>4</th>\n",
              "      <td>21st Amendment Brewery</td>\n",
              "      <td>5-South</td>\n",
              "      <td>American Pale Ale (APA)</td>\n",
              "      <td>6.0</td>\n",
              "      <td>3</td>\n",
              "      <td>4.00</td>\n",
              "      <td>San Francisco</td>\n",
              "      <td>CA</td>\n",
              "    </tr>\n",
              "  </tbody>\n",
              "</table>\n",
              "</div>"
            ],
            "text/plain": [
              "             brewery_name                      beer_name  ...           city  state\n",
              "0  21st Amendment Brewery                        21 Rock  ...  San Francisco     CA\n",
              "1  21st Amendment Brewery             21st Amendment IPA  ...  San Francisco     CA\n",
              "2  21st Amendment Brewery  21st Amendment Imperial Stout  ...  San Francisco     CA\n",
              "3  21st Amendment Brewery        21st Amendment Pale Ale  ...  San Francisco     CA\n",
              "4  21st Amendment Brewery                        5-South  ...  San Francisco     CA\n",
              "\n",
              "[5 rows x 8 columns]"
            ]
          },
          "metadata": {
            "tags": []
          },
          "execution_count": 3
        }
      ]
    },
    {
      "cell_type": "code",
      "metadata": {
        "id": "vYyKCTVBPPEF",
        "colab_type": "code",
        "colab": {}
      },
      "source": [
        "## Quick EDA"
      ],
      "execution_count": null,
      "outputs": []
    },
    {
      "cell_type": "code",
      "metadata": {
        "id": "8bblez6E1uAU",
        "colab_type": "code",
        "colab": {
          "base_uri": "https://localhost:8080/",
          "height": 35
        },
        "outputId": "e2c72782-2d74-44db-f9a5-16571745f100"
      },
      "source": [
        "beers.shape"
      ],
      "execution_count": null,
      "outputs": [
        {
          "output_type": "execute_result",
          "data": {
            "text/plain": [
              "(4640, 8)"
            ]
          },
          "metadata": {
            "tags": []
          },
          "execution_count": 5
        }
      ]
    },
    {
      "cell_type": "code",
      "metadata": {
        "id": "D2-pfrK8PPEH",
        "colab_type": "code",
        "colab": {
          "base_uri": "https://localhost:8080/",
          "height": 35
        },
        "outputId": "dd6111ff-00f5-441f-d188-7f93b3df99f8"
      },
      "source": [
        "beers['beer_style'].nunique()"
      ],
      "execution_count": null,
      "outputs": [
        {
          "output_type": "execute_result",
          "data": {
            "text/plain": [
              "98"
            ]
          },
          "metadata": {
            "tags": []
          },
          "execution_count": 6
        }
      ]
    },
    {
      "cell_type": "code",
      "metadata": {
        "id": "TRJgYuyJPPEK",
        "colab_type": "code",
        "colab": {
          "base_uri": "https://localhost:8080/",
          "height": 121
        },
        "outputId": "bd8cb0d2-22f8-4cb1-b965-c7d399f02ca4"
      },
      "source": [
        "# Most frequent?\n",
        "beers['beer_style'].value_counts().head(5)"
      ],
      "execution_count": null,
      "outputs": [
        {
          "output_type": "execute_result",
          "data": {
            "text/plain": [
              "American IPA                      393\n",
              "American Pale Ale (APA)           281\n",
              "American Porter                   190\n",
              "American Amber / Red Ale          184\n",
              "American Double / Imperial IPA    173\n",
              "Name: beer_style, dtype: int64"
            ]
          },
          "metadata": {
            "tags": []
          },
          "execution_count": 7
        }
      ]
    },
    {
      "cell_type": "code",
      "metadata": {
        "id": "5ojjJ_ECPPEM",
        "colab_type": "code",
        "colab": {
          "base_uri": "https://localhost:8080/",
          "height": 198
        },
        "outputId": "2beb8333-1c9d-4f49-eccb-2041da100356"
      },
      "source": [
        "# Highest ABV?\n",
        "beers.sort_values(by = 'beer_abv', ascending=False).head(5)"
      ],
      "execution_count": null,
      "outputs": [
        {
          "output_type": "execute_result",
          "data": {
            "text/html": [
              "<div>\n",
              "<style scoped>\n",
              "    .dataframe tbody tr th:only-of-type {\n",
              "        vertical-align: middle;\n",
              "    }\n",
              "\n",
              "    .dataframe tbody tr th {\n",
              "        vertical-align: top;\n",
              "    }\n",
              "\n",
              "    .dataframe thead th {\n",
              "        text-align: right;\n",
              "    }\n",
              "</style>\n",
              "<table border=\"1\" class=\"dataframe\">\n",
              "  <thead>\n",
              "    <tr style=\"text-align: right;\">\n",
              "      <th></th>\n",
              "      <th>brewery_name</th>\n",
              "      <th>beer_name</th>\n",
              "      <th>beer_style</th>\n",
              "      <th>beer_abv</th>\n",
              "      <th>num_reviews</th>\n",
              "      <th>rating</th>\n",
              "      <th>city</th>\n",
              "      <th>state</th>\n",
              "    </tr>\n",
              "  </thead>\n",
              "  <tbody>\n",
              "    <tr>\n",
              "      <th>293</th>\n",
              "      <td>Avery Brewing Company</td>\n",
              "      <td>The Beast Grand Cru 2004</td>\n",
              "      <td>Belgian Strong Dark Ale</td>\n",
              "      <td>18.10</td>\n",
              "      <td>40</td>\n",
              "      <td>3.04</td>\n",
              "      <td>Boulder</td>\n",
              "      <td>CO</td>\n",
              "    </tr>\n",
              "    <tr>\n",
              "      <th>190</th>\n",
              "      <td>Arctic Craft Brewery</td>\n",
              "      <td>Warning Sign Eisbock</td>\n",
              "      <td>Eisbock</td>\n",
              "      <td>18.00</td>\n",
              "      <td>4</td>\n",
              "      <td>4.00</td>\n",
              "      <td>Colorado Springs</td>\n",
              "      <td>CO</td>\n",
              "    </tr>\n",
              "    <tr>\n",
              "      <th>3612</th>\n",
              "      <td>Southampton Publick House</td>\n",
              "      <td>Double Ice Bock</td>\n",
              "      <td>Eisbock</td>\n",
              "      <td>18.00</td>\n",
              "      <td>22</td>\n",
              "      <td>4.14</td>\n",
              "      <td>Southampton</td>\n",
              "      <td>NY</td>\n",
              "    </tr>\n",
              "    <tr>\n",
              "      <th>292</th>\n",
              "      <td>Avery Brewing Company</td>\n",
              "      <td>The Beast Grand Cru</td>\n",
              "      <td>Belgian Strong Dark Ale</td>\n",
              "      <td>16.83</td>\n",
              "      <td>506</td>\n",
              "      <td>3.46</td>\n",
              "      <td>Boulder</td>\n",
              "      <td>CO</td>\n",
              "    </tr>\n",
              "    <tr>\n",
              "      <th>269</th>\n",
              "      <td>Avery Brewing Company</td>\n",
              "      <td>Mephistopheles' Stout</td>\n",
              "      <td>American Double / Imperial Stout</td>\n",
              "      <td>16.80</td>\n",
              "      <td>693</td>\n",
              "      <td>3.66</td>\n",
              "      <td>Boulder</td>\n",
              "      <td>CO</td>\n",
              "    </tr>\n",
              "  </tbody>\n",
              "</table>\n",
              "</div>"
            ],
            "text/plain": [
              "                   brewery_name  ... state\n",
              "293       Avery Brewing Company  ...    CO\n",
              "190        Arctic Craft Brewery  ...    CO\n",
              "3612  Southampton Publick House  ...    NY\n",
              "292       Avery Brewing Company  ...    CO\n",
              "269       Avery Brewing Company  ...    CO\n",
              "\n",
              "[5 rows x 8 columns]"
            ]
          },
          "metadata": {
            "tags": []
          },
          "execution_count": 8
        }
      ]
    },
    {
      "cell_type": "code",
      "metadata": {
        "id": "eNEHO5vM2QiE",
        "colab_type": "code",
        "colab": {
          "base_uri": "https://localhost:8080/",
          "height": 173
        },
        "outputId": "934a6922-e5fb-455d-9f48-f250f9f9bc65"
      },
      "source": [
        "beers['rating'].mean()\n",
        "beers['rating'].describe()\n",
        "beers[beers['beer_style']=='American IPA']['beer_abv'].describe()"
      ],
      "execution_count": null,
      "outputs": [
        {
          "output_type": "execute_result",
          "data": {
            "text/plain": [
              "count    393.000000\n",
              "mean       6.639491\n",
              "std        0.712900\n",
              "min        3.500000\n",
              "25%        6.200000\n",
              "50%        6.700000\n",
              "75%        7.000000\n",
              "max        9.600000\n",
              "Name: beer_abv, dtype: float64"
            ]
          },
          "metadata": {
            "tags": []
          },
          "execution_count": 37
        }
      ]
    },
    {
      "cell_type": "markdown",
      "metadata": {
        "id": "gelh1eSsPPEO",
        "colab_type": "text"
      },
      "source": [
        "## Feature Engineering"
      ]
    },
    {
      "cell_type": "code",
      "metadata": {
        "id": "g9QBkGVDPPEP",
        "colab_type": "code",
        "colab": {}
      },
      "source": [
        "# Let's identify beers with \"double\" in their name"
      ],
      "execution_count": null,
      "outputs": []
    },
    {
      "cell_type": "code",
      "metadata": {
        "id": "irS433C9PPER",
        "colab_type": "code",
        "colab": {
          "base_uri": "https://localhost:8080/",
          "height": 35
        },
        "outputId": "114dc1b3-9e2e-4e72-ee05-b877afa5849a"
      },
      "source": [
        "# analyze a single cell\n",
        "example_text = beers['beer_style'][1]\n",
        "example_text"
      ],
      "execution_count": null,
      "outputs": [
        {
          "output_type": "execute_result",
          "data": {
            "application/vnd.google.colaboratory.intrinsic+json": {
              "type": "string"
            },
            "text/plain": [
              "'American IPA'"
            ]
          },
          "metadata": {
            "tags": []
          },
          "execution_count": 10
        }
      ]
    },
    {
      "cell_type": "code",
      "metadata": {
        "id": "zxZnYROJPPEV",
        "colab_type": "code",
        "colab": {}
      },
      "source": [
        "# Write a function to identify if 'double' is in beer name\n",
        "def double_trouble(row):\n",
        "    if 'Double' in row:\n",
        "        return 'trouble'\n",
        "    else:\n",
        "        return 'no trouble'"
      ],
      "execution_count": null,
      "outputs": []
    },
    {
      "cell_type": "code",
      "metadata": {
        "id": "6aJbpkehPPEY",
        "colab_type": "code",
        "colab": {
          "base_uri": "https://localhost:8080/",
          "height": 35
        },
        "outputId": "d1cd0327-1ad8-4945-e252-7bcbc6388d1e"
      },
      "source": [
        "double_trouble(example_text)"
      ],
      "execution_count": null,
      "outputs": [
        {
          "output_type": "execute_result",
          "data": {
            "application/vnd.google.colaboratory.intrinsic+json": {
              "type": "string"
            },
            "text/plain": [
              "'no trouble'"
            ]
          },
          "metadata": {
            "tags": []
          },
          "execution_count": 12
        }
      ]
    },
    {
      "cell_type": "code",
      "metadata": {
        "id": "TCTvV0x8PPEa",
        "colab_type": "code",
        "colab": {}
      },
      "source": [
        "# here it comes!\n",
        "beers['has_double'] = beers['beer_style'].apply(double_trouble)"
      ],
      "execution_count": null,
      "outputs": []
    },
    {
      "cell_type": "code",
      "metadata": {
        "id": "Q5ITHbmL3K_2",
        "colab_type": "code",
        "colab": {}
      },
      "source": [
        ""
      ],
      "execution_count": null,
      "outputs": []
    },
    {
      "cell_type": "code",
      "metadata": {
        "id": "X8a4Qye2PPEd",
        "colab_type": "code",
        "colab": {
          "base_uri": "https://localhost:8080/",
          "height": 198
        },
        "outputId": "7f2d7fee-c7a9-4a66-d044-fcbbb6fbd81b"
      },
      "source": [
        "beers.head()"
      ],
      "execution_count": null,
      "outputs": [
        {
          "output_type": "execute_result",
          "data": {
            "text/html": [
              "<div>\n",
              "<style scoped>\n",
              "    .dataframe tbody tr th:only-of-type {\n",
              "        vertical-align: middle;\n",
              "    }\n",
              "\n",
              "    .dataframe tbody tr th {\n",
              "        vertical-align: top;\n",
              "    }\n",
              "\n",
              "    .dataframe thead th {\n",
              "        text-align: right;\n",
              "    }\n",
              "</style>\n",
              "<table border=\"1\" class=\"dataframe\">\n",
              "  <thead>\n",
              "    <tr style=\"text-align: right;\">\n",
              "      <th></th>\n",
              "      <th>brewery_name</th>\n",
              "      <th>beer_name</th>\n",
              "      <th>beer_style</th>\n",
              "      <th>beer_abv</th>\n",
              "      <th>num_reviews</th>\n",
              "      <th>rating</th>\n",
              "      <th>city</th>\n",
              "      <th>state</th>\n",
              "      <th>has_double</th>\n",
              "    </tr>\n",
              "  </thead>\n",
              "  <tbody>\n",
              "    <tr>\n",
              "      <th>0</th>\n",
              "      <td>21st Amendment Brewery</td>\n",
              "      <td>21 Rock</td>\n",
              "      <td>American Double / Imperial IPA</td>\n",
              "      <td>9.7</td>\n",
              "      <td>2</td>\n",
              "      <td>4.00</td>\n",
              "      <td>San Francisco</td>\n",
              "      <td>CA</td>\n",
              "      <td>trouble</td>\n",
              "    </tr>\n",
              "    <tr>\n",
              "      <th>1</th>\n",
              "      <td>21st Amendment Brewery</td>\n",
              "      <td>21st Amendment IPA</td>\n",
              "      <td>American IPA</td>\n",
              "      <td>7.0</td>\n",
              "      <td>650</td>\n",
              "      <td>3.89</td>\n",
              "      <td>San Francisco</td>\n",
              "      <td>CA</td>\n",
              "      <td>no trouble</td>\n",
              "    </tr>\n",
              "    <tr>\n",
              "      <th>2</th>\n",
              "      <td>21st Amendment Brewery</td>\n",
              "      <td>21st Amendment Imperial Stout</td>\n",
              "      <td>Russian Imperial Stout</td>\n",
              "      <td>10.0</td>\n",
              "      <td>4</td>\n",
              "      <td>3.88</td>\n",
              "      <td>San Francisco</td>\n",
              "      <td>CA</td>\n",
              "      <td>no trouble</td>\n",
              "    </tr>\n",
              "    <tr>\n",
              "      <th>3</th>\n",
              "      <td>21st Amendment Brewery</td>\n",
              "      <td>21st Amendment Pale Ale</td>\n",
              "      <td>American Pale Ale (APA)</td>\n",
              "      <td>5.5</td>\n",
              "      <td>7</td>\n",
              "      <td>3.86</td>\n",
              "      <td>San Francisco</td>\n",
              "      <td>CA</td>\n",
              "      <td>no trouble</td>\n",
              "    </tr>\n",
              "    <tr>\n",
              "      <th>4</th>\n",
              "      <td>21st Amendment Brewery</td>\n",
              "      <td>5-South</td>\n",
              "      <td>American Pale Ale (APA)</td>\n",
              "      <td>6.0</td>\n",
              "      <td>3</td>\n",
              "      <td>4.00</td>\n",
              "      <td>San Francisco</td>\n",
              "      <td>CA</td>\n",
              "      <td>no trouble</td>\n",
              "    </tr>\n",
              "  </tbody>\n",
              "</table>\n",
              "</div>"
            ],
            "text/plain": [
              "             brewery_name                      beer_name  ... state  has_double\n",
              "0  21st Amendment Brewery                        21 Rock  ...    CA     trouble\n",
              "1  21st Amendment Brewery             21st Amendment IPA  ...    CA  no trouble\n",
              "2  21st Amendment Brewery  21st Amendment Imperial Stout  ...    CA  no trouble\n",
              "3  21st Amendment Brewery        21st Amendment Pale Ale  ...    CA  no trouble\n",
              "4  21st Amendment Brewery                        5-South  ...    CA  no trouble\n",
              "\n",
              "[5 rows x 9 columns]"
            ]
          },
          "metadata": {
            "tags": []
          },
          "execution_count": 14
        }
      ]
    },
    {
      "cell_type": "code",
      "metadata": {
        "id": "6UD4gD1H3MJ9",
        "colab_type": "code",
        "colab": {
          "base_uri": "https://localhost:8080/",
          "height": 86
        },
        "outputId": "44fd70a3-9cd6-45a8-ebeb-4fcd365565d9"
      },
      "source": [
        "beers.groupby('has_double')['beer_abv'].mean()"
      ],
      "execution_count": null,
      "outputs": [
        {
          "output_type": "execute_result",
          "data": {
            "text/plain": [
              "has_double\n",
              "no trouble    6.585917\n",
              "trouble       9.158164\n",
              "Name: beer_abv, dtype: float64"
            ]
          },
          "metadata": {
            "tags": []
          },
          "execution_count": 38
        }
      ]
    },
    {
      "cell_type": "code",
      "metadata": {
        "id": "C0Gtzk9BPPEg",
        "colab_type": "code",
        "colab": {}
      },
      "source": [
        "# Write a function to identify if 'Ale' is in beer name\n",
        "def ale_finder(row):\n",
        "    if 'ale' in row.lower():\n",
        "        return 1\n",
        "    else:\n",
        "        return 0"
      ],
      "execution_count": null,
      "outputs": []
    },
    {
      "cell_type": "code",
      "metadata": {
        "id": "Il_4qfpePPEi",
        "colab_type": "code",
        "colab": {
          "base_uri": "https://localhost:8080/",
          "height": 285
        },
        "outputId": "7986d076-2c8c-4d57-fd50-f8e62dc35af8"
      },
      "source": [
        "# here it comes!\n",
        "beers['is_ale'] = beers['beer_style'].apply(ale_finder)\n",
        "beers.head()"
      ],
      "execution_count": null,
      "outputs": [
        {
          "output_type": "execute_result",
          "data": {
            "text/html": [
              "<div>\n",
              "<style scoped>\n",
              "    .dataframe tbody tr th:only-of-type {\n",
              "        vertical-align: middle;\n",
              "    }\n",
              "\n",
              "    .dataframe tbody tr th {\n",
              "        vertical-align: top;\n",
              "    }\n",
              "\n",
              "    .dataframe thead th {\n",
              "        text-align: right;\n",
              "    }\n",
              "</style>\n",
              "<table border=\"1\" class=\"dataframe\">\n",
              "  <thead>\n",
              "    <tr style=\"text-align: right;\">\n",
              "      <th></th>\n",
              "      <th>brewery_name</th>\n",
              "      <th>beer_name</th>\n",
              "      <th>beer_style</th>\n",
              "      <th>beer_abv</th>\n",
              "      <th>num_reviews</th>\n",
              "      <th>rating</th>\n",
              "      <th>city</th>\n",
              "      <th>state</th>\n",
              "      <th>has_double</th>\n",
              "      <th>is_ale</th>\n",
              "    </tr>\n",
              "  </thead>\n",
              "  <tbody>\n",
              "    <tr>\n",
              "      <th>0</th>\n",
              "      <td>21st Amendment Brewery</td>\n",
              "      <td>21 Rock</td>\n",
              "      <td>American Double / Imperial IPA</td>\n",
              "      <td>9.7</td>\n",
              "      <td>2</td>\n",
              "      <td>4.00</td>\n",
              "      <td>San Francisco</td>\n",
              "      <td>CA</td>\n",
              "      <td>trouble</td>\n",
              "      <td>0</td>\n",
              "    </tr>\n",
              "    <tr>\n",
              "      <th>1</th>\n",
              "      <td>21st Amendment Brewery</td>\n",
              "      <td>21st Amendment IPA</td>\n",
              "      <td>American IPA</td>\n",
              "      <td>7.0</td>\n",
              "      <td>650</td>\n",
              "      <td>3.89</td>\n",
              "      <td>San Francisco</td>\n",
              "      <td>CA</td>\n",
              "      <td>no trouble</td>\n",
              "      <td>0</td>\n",
              "    </tr>\n",
              "    <tr>\n",
              "      <th>2</th>\n",
              "      <td>21st Amendment Brewery</td>\n",
              "      <td>21st Amendment Imperial Stout</td>\n",
              "      <td>Russian Imperial Stout</td>\n",
              "      <td>10.0</td>\n",
              "      <td>4</td>\n",
              "      <td>3.88</td>\n",
              "      <td>San Francisco</td>\n",
              "      <td>CA</td>\n",
              "      <td>no trouble</td>\n",
              "      <td>0</td>\n",
              "    </tr>\n",
              "    <tr>\n",
              "      <th>3</th>\n",
              "      <td>21st Amendment Brewery</td>\n",
              "      <td>21st Amendment Pale Ale</td>\n",
              "      <td>American Pale Ale (APA)</td>\n",
              "      <td>5.5</td>\n",
              "      <td>7</td>\n",
              "      <td>3.86</td>\n",
              "      <td>San Francisco</td>\n",
              "      <td>CA</td>\n",
              "      <td>no trouble</td>\n",
              "      <td>1</td>\n",
              "    </tr>\n",
              "    <tr>\n",
              "      <th>4</th>\n",
              "      <td>21st Amendment Brewery</td>\n",
              "      <td>5-South</td>\n",
              "      <td>American Pale Ale (APA)</td>\n",
              "      <td>6.0</td>\n",
              "      <td>3</td>\n",
              "      <td>4.00</td>\n",
              "      <td>San Francisco</td>\n",
              "      <td>CA</td>\n",
              "      <td>no trouble</td>\n",
              "      <td>1</td>\n",
              "    </tr>\n",
              "  </tbody>\n",
              "</table>\n",
              "</div>"
            ],
            "text/plain": [
              "             brewery_name                      beer_name  ...  has_double  is_ale\n",
              "0  21st Amendment Brewery                        21 Rock  ...     trouble       0\n",
              "1  21st Amendment Brewery             21st Amendment IPA  ...  no trouble       0\n",
              "2  21st Amendment Brewery  21st Amendment Imperial Stout  ...  no trouble       0\n",
              "3  21st Amendment Brewery        21st Amendment Pale Ale  ...  no trouble       1\n",
              "4  21st Amendment Brewery                        5-South  ...  no trouble       1\n",
              "\n",
              "[5 rows x 10 columns]"
            ]
          },
          "metadata": {
            "tags": []
          },
          "execution_count": 16
        }
      ]
    },
    {
      "cell_type": "code",
      "metadata": {
        "id": "z2zrXU4nPPEl",
        "colab_type": "code",
        "colab": {
          "base_uri": "https://localhost:8080/",
          "height": 69
        },
        "outputId": "6473540d-5dfb-4c1b-e575-bccdd8fb2b55"
      },
      "source": [
        "# how many ales in the df?\n",
        "beers['is_ale'].value_counts()"
      ],
      "execution_count": null,
      "outputs": [
        {
          "output_type": "execute_result",
          "data": {
            "text/plain": [
              "0    2876\n",
              "1    1764\n",
              "Name: is_ale, dtype: int64"
            ]
          },
          "metadata": {
            "tags": []
          },
          "execution_count": 17
        }
      ]
    },
    {
      "cell_type": "code",
      "metadata": {
        "id": "m4mcBZy13_Fr",
        "colab_type": "code",
        "colab": {
          "base_uri": "https://localhost:8080/",
          "height": 86
        },
        "outputId": "44b07a48-62d8-4d07-cb3a-81aab50f006d"
      },
      "source": [
        "beers.groupby('is_ale')['num_reviews'].mean()"
      ],
      "execution_count": null,
      "outputs": [
        {
          "output_type": "execute_result",
          "data": {
            "text/plain": [
              "is_ale\n",
              "0    110.078234\n",
              "1     74.399660\n",
              "Name: num_reviews, dtype: float64"
            ]
          },
          "metadata": {
            "tags": []
          },
          "execution_count": 39
        }
      ]
    },
    {
      "cell_type": "code",
      "metadata": {
        "id": "2WPfAvauPln5",
        "colab_type": "code",
        "colab": {}
      },
      "source": [
        "# now a more complicated function:\n",
        "def beer_categories(row):\n",
        "  if 'ipa' in row.lower():\n",
        "    return 'ipa'\n",
        "  elif 'ale' in row.lower():\n",
        "    return 'ale'\n",
        "  elif 'lager' in row.lower():\n",
        "    return 'lager'\n",
        "  elif 'pilsner' in row.lower():\n",
        "    return 'pilsner'\n",
        "  elif 'stout' in row.lower():\n",
        "    return 'stout'\n",
        "  elif 'porter' in row.lower():\n",
        "    return 'porter'\n",
        "  else: \n",
        "    return 'other'\n",
        "\n"
      ],
      "execution_count": null,
      "outputs": []
    },
    {
      "cell_type": "code",
      "metadata": {
        "id": "OXb6YwkiQZPU",
        "colab_type": "code",
        "colab": {
          "base_uri": "https://localhost:8080/",
          "height": 155
        },
        "outputId": "911ef39e-ebe5-49b2-e4f3-740d710907a0"
      },
      "source": [
        "# apply the function\n",
        "beers['beer_type']=beers['beer_style'].apply(beer_categories)\n",
        "beers['beer_type'].value_counts()"
      ],
      "execution_count": null,
      "outputs": [
        {
          "output_type": "execute_result",
          "data": {
            "text/plain": [
              "ale        1723\n",
              "other      1437\n",
              "ipa         640\n",
              "stout       440\n",
              "porter      248\n",
              "lager       131\n",
              "pilsner      21\n",
              "Name: beer_type, dtype: int64"
            ]
          },
          "metadata": {
            "tags": []
          },
          "execution_count": 19
        }
      ]
    },
    {
      "cell_type": "code",
      "metadata": {
        "id": "lLr9KWsIQpje",
        "colab_type": "code",
        "colab": {
          "base_uri": "https://localhost:8080/",
          "height": 288
        },
        "outputId": "d98ab458-b1a4-4872-8877-13b300122c99"
      },
      "source": [
        "# Do some beer types have higher average ABV?\n",
        "beers.groupby('beer_type')[['beer_abv']].mean().sort_values('beer_abv', ascending=False)"
      ],
      "execution_count": null,
      "outputs": [
        {
          "output_type": "execute_result",
          "data": {
            "text/html": [
              "<div>\n",
              "<style scoped>\n",
              "    .dataframe tbody tr th:only-of-type {\n",
              "        vertical-align: middle;\n",
              "    }\n",
              "\n",
              "    .dataframe tbody tr th {\n",
              "        vertical-align: top;\n",
              "    }\n",
              "\n",
              "    .dataframe thead th {\n",
              "        text-align: right;\n",
              "    }\n",
              "</style>\n",
              "<table border=\"1\" class=\"dataframe\">\n",
              "  <thead>\n",
              "    <tr style=\"text-align: right;\">\n",
              "      <th></th>\n",
              "      <th>beer_abv</th>\n",
              "    </tr>\n",
              "    <tr>\n",
              "      <th>beer_type</th>\n",
              "      <th></th>\n",
              "    </tr>\n",
              "  </thead>\n",
              "  <tbody>\n",
              "    <tr>\n",
              "      <th>stout</th>\n",
              "      <td>7.626455</td>\n",
              "    </tr>\n",
              "    <tr>\n",
              "      <th>pilsner</th>\n",
              "      <td>7.530952</td>\n",
              "    </tr>\n",
              "    <tr>\n",
              "      <th>ipa</th>\n",
              "      <td>7.325328</td>\n",
              "    </tr>\n",
              "    <tr>\n",
              "      <th>porter</th>\n",
              "      <td>6.902218</td>\n",
              "    </tr>\n",
              "    <tr>\n",
              "      <th>other</th>\n",
              "      <td>6.848580</td>\n",
              "    </tr>\n",
              "    <tr>\n",
              "      <th>ale</th>\n",
              "      <td>6.340714</td>\n",
              "    </tr>\n",
              "    <tr>\n",
              "      <th>lager</th>\n",
              "      <td>5.060916</td>\n",
              "    </tr>\n",
              "  </tbody>\n",
              "</table>\n",
              "</div>"
            ],
            "text/plain": [
              "           beer_abv\n",
              "beer_type          \n",
              "stout      7.626455\n",
              "pilsner    7.530952\n",
              "ipa        7.325328\n",
              "porter     6.902218\n",
              "other      6.848580\n",
              "ale        6.340714\n",
              "lager      5.060916"
            ]
          },
          "metadata": {
            "tags": []
          },
          "execution_count": 20
        }
      ]
    },
    {
      "cell_type": "code",
      "metadata": {
        "id": "TmDsgfPISI8W",
        "colab_type": "code",
        "colab": {
          "base_uri": "https://localhost:8080/",
          "height": 288
        },
        "outputId": "6aafec36-c503-48b5-9797-3728f245a7a9"
      },
      "source": [
        "# Do some beer types have higher average rating?\n",
        "beers.groupby('beer_type')[['rating']].mean().sort_values(by = 'rating', ascending=False)"
      ],
      "execution_count": null,
      "outputs": [
        {
          "output_type": "execute_result",
          "data": {
            "text/html": [
              "<div>\n",
              "<style scoped>\n",
              "    .dataframe tbody tr th:only-of-type {\n",
              "        vertical-align: middle;\n",
              "    }\n",
              "\n",
              "    .dataframe tbody tr th {\n",
              "        vertical-align: top;\n",
              "    }\n",
              "\n",
              "    .dataframe thead th {\n",
              "        text-align: right;\n",
              "    }\n",
              "</style>\n",
              "<table border=\"1\" class=\"dataframe\">\n",
              "  <thead>\n",
              "    <tr style=\"text-align: right;\">\n",
              "      <th></th>\n",
              "      <th>rating</th>\n",
              "    </tr>\n",
              "    <tr>\n",
              "      <th>beer_type</th>\n",
              "      <th></th>\n",
              "    </tr>\n",
              "  </thead>\n",
              "  <tbody>\n",
              "    <tr>\n",
              "      <th>stout</th>\n",
              "      <td>3.947068</td>\n",
              "    </tr>\n",
              "    <tr>\n",
              "      <th>porter</th>\n",
              "      <td>3.934597</td>\n",
              "    </tr>\n",
              "    <tr>\n",
              "      <th>ipa</th>\n",
              "      <td>3.875500</td>\n",
              "    </tr>\n",
              "    <tr>\n",
              "      <th>pilsner</th>\n",
              "      <td>3.833333</td>\n",
              "    </tr>\n",
              "    <tr>\n",
              "      <th>other</th>\n",
              "      <td>3.808330</td>\n",
              "    </tr>\n",
              "    <tr>\n",
              "      <th>ale</th>\n",
              "      <td>3.801898</td>\n",
              "    </tr>\n",
              "    <tr>\n",
              "      <th>lager</th>\n",
              "      <td>3.562977</td>\n",
              "    </tr>\n",
              "  </tbody>\n",
              "</table>\n",
              "</div>"
            ],
            "text/plain": [
              "             rating\n",
              "beer_type          \n",
              "stout      3.947068\n",
              "porter     3.934597\n",
              "ipa        3.875500\n",
              "pilsner    3.833333\n",
              "other      3.808330\n",
              "ale        3.801898\n",
              "lager      3.562977"
            ]
          },
          "metadata": {
            "tags": []
          },
          "execution_count": 21
        }
      ]
    },
    {
      "cell_type": "markdown",
      "metadata": {
        "id": "tnF04oMgPPEn",
        "colab_type": "text"
      },
      "source": [
        "## Generate Dummy Variables"
      ]
    },
    {
      "cell_type": "markdown",
      "metadata": {
        "id": "iH9_wBpKTc_Y",
        "colab_type": "text"
      },
      "source": [
        "What is one-hot encoding (aka, dummy variables)? \n",
        "https://machinelearningmastery.com/why-one-hot-encode-data-in-machine-learning/"
      ]
    },
    {
      "cell_type": "code",
      "metadata": {
        "id": "BrdSGlO745sX",
        "colab_type": "code",
        "colab": {
          "base_uri": "https://localhost:8080/",
          "height": 285
        },
        "outputId": "70af55b1-4a29-4848-8d7a-39fe817f2d81"
      },
      "source": [
        "beers.head()"
      ],
      "execution_count": null,
      "outputs": [
        {
          "output_type": "execute_result",
          "data": {
            "text/html": [
              "<div>\n",
              "<style scoped>\n",
              "    .dataframe tbody tr th:only-of-type {\n",
              "        vertical-align: middle;\n",
              "    }\n",
              "\n",
              "    .dataframe tbody tr th {\n",
              "        vertical-align: top;\n",
              "    }\n",
              "\n",
              "    .dataframe thead th {\n",
              "        text-align: right;\n",
              "    }\n",
              "</style>\n",
              "<table border=\"1\" class=\"dataframe\">\n",
              "  <thead>\n",
              "    <tr style=\"text-align: right;\">\n",
              "      <th></th>\n",
              "      <th>brewery_name</th>\n",
              "      <th>beer_name</th>\n",
              "      <th>beer_style</th>\n",
              "      <th>beer_abv</th>\n",
              "      <th>num_reviews</th>\n",
              "      <th>rating</th>\n",
              "      <th>city</th>\n",
              "      <th>state</th>\n",
              "      <th>has_double</th>\n",
              "      <th>is_ale</th>\n",
              "      <th>beer_type</th>\n",
              "    </tr>\n",
              "  </thead>\n",
              "  <tbody>\n",
              "    <tr>\n",
              "      <th>0</th>\n",
              "      <td>21st Amendment Brewery</td>\n",
              "      <td>21 Rock</td>\n",
              "      <td>American Double / Imperial IPA</td>\n",
              "      <td>9.7</td>\n",
              "      <td>2</td>\n",
              "      <td>4.00</td>\n",
              "      <td>San Francisco</td>\n",
              "      <td>CA</td>\n",
              "      <td>trouble</td>\n",
              "      <td>0</td>\n",
              "      <td>ipa</td>\n",
              "    </tr>\n",
              "    <tr>\n",
              "      <th>1</th>\n",
              "      <td>21st Amendment Brewery</td>\n",
              "      <td>21st Amendment IPA</td>\n",
              "      <td>American IPA</td>\n",
              "      <td>7.0</td>\n",
              "      <td>650</td>\n",
              "      <td>3.89</td>\n",
              "      <td>San Francisco</td>\n",
              "      <td>CA</td>\n",
              "      <td>no trouble</td>\n",
              "      <td>0</td>\n",
              "      <td>ipa</td>\n",
              "    </tr>\n",
              "    <tr>\n",
              "      <th>2</th>\n",
              "      <td>21st Amendment Brewery</td>\n",
              "      <td>21st Amendment Imperial Stout</td>\n",
              "      <td>Russian Imperial Stout</td>\n",
              "      <td>10.0</td>\n",
              "      <td>4</td>\n",
              "      <td>3.88</td>\n",
              "      <td>San Francisco</td>\n",
              "      <td>CA</td>\n",
              "      <td>no trouble</td>\n",
              "      <td>0</td>\n",
              "      <td>stout</td>\n",
              "    </tr>\n",
              "    <tr>\n",
              "      <th>3</th>\n",
              "      <td>21st Amendment Brewery</td>\n",
              "      <td>21st Amendment Pale Ale</td>\n",
              "      <td>American Pale Ale (APA)</td>\n",
              "      <td>5.5</td>\n",
              "      <td>7</td>\n",
              "      <td>3.86</td>\n",
              "      <td>San Francisco</td>\n",
              "      <td>CA</td>\n",
              "      <td>no trouble</td>\n",
              "      <td>1</td>\n",
              "      <td>ale</td>\n",
              "    </tr>\n",
              "    <tr>\n",
              "      <th>4</th>\n",
              "      <td>21st Amendment Brewery</td>\n",
              "      <td>5-South</td>\n",
              "      <td>American Pale Ale (APA)</td>\n",
              "      <td>6.0</td>\n",
              "      <td>3</td>\n",
              "      <td>4.00</td>\n",
              "      <td>San Francisco</td>\n",
              "      <td>CA</td>\n",
              "      <td>no trouble</td>\n",
              "      <td>1</td>\n",
              "      <td>ale</td>\n",
              "    </tr>\n",
              "  </tbody>\n",
              "</table>\n",
              "</div>"
            ],
            "text/plain": [
              "             brewery_name                      beer_name  ... is_ale  beer_type\n",
              "0  21st Amendment Brewery                        21 Rock  ...      0        ipa\n",
              "1  21st Amendment Brewery             21st Amendment IPA  ...      0        ipa\n",
              "2  21st Amendment Brewery  21st Amendment Imperial Stout  ...      0      stout\n",
              "3  21st Amendment Brewery        21st Amendment Pale Ale  ...      1        ale\n",
              "4  21st Amendment Brewery                        5-South  ...      1        ale\n",
              "\n",
              "[5 rows x 11 columns]"
            ]
          },
          "metadata": {
            "tags": []
          },
          "execution_count": 40
        }
      ]
    },
    {
      "cell_type": "code",
      "metadata": {
        "id": "pLuMEkGFPPEo",
        "colab_type": "code",
        "colab": {
          "base_uri": "https://localhost:8080/",
          "height": 215
        },
        "outputId": "57260f0c-fa71-4b5e-c90a-e636f50bee7d"
      },
      "source": [
        "# Let's shrink our dataset\n",
        "beers2 = beers[['beer_type', 'beer_abv']]\n",
        "print(beers2.shape)\n",
        "beers2.head()"
      ],
      "execution_count": null,
      "outputs": [
        {
          "output_type": "stream",
          "text": [
            "(4640, 2)\n"
          ],
          "name": "stdout"
        },
        {
          "output_type": "execute_result",
          "data": {
            "text/html": [
              "<div>\n",
              "<style scoped>\n",
              "    .dataframe tbody tr th:only-of-type {\n",
              "        vertical-align: middle;\n",
              "    }\n",
              "\n",
              "    .dataframe tbody tr th {\n",
              "        vertical-align: top;\n",
              "    }\n",
              "\n",
              "    .dataframe thead th {\n",
              "        text-align: right;\n",
              "    }\n",
              "</style>\n",
              "<table border=\"1\" class=\"dataframe\">\n",
              "  <thead>\n",
              "    <tr style=\"text-align: right;\">\n",
              "      <th></th>\n",
              "      <th>beer_type</th>\n",
              "      <th>beer_abv</th>\n",
              "    </tr>\n",
              "  </thead>\n",
              "  <tbody>\n",
              "    <tr>\n",
              "      <th>0</th>\n",
              "      <td>ipa</td>\n",
              "      <td>9.7</td>\n",
              "    </tr>\n",
              "    <tr>\n",
              "      <th>1</th>\n",
              "      <td>ipa</td>\n",
              "      <td>7.0</td>\n",
              "    </tr>\n",
              "    <tr>\n",
              "      <th>2</th>\n",
              "      <td>stout</td>\n",
              "      <td>10.0</td>\n",
              "    </tr>\n",
              "    <tr>\n",
              "      <th>3</th>\n",
              "      <td>ale</td>\n",
              "      <td>5.5</td>\n",
              "    </tr>\n",
              "    <tr>\n",
              "      <th>4</th>\n",
              "      <td>ale</td>\n",
              "      <td>6.0</td>\n",
              "    </tr>\n",
              "  </tbody>\n",
              "</table>\n",
              "</div>"
            ],
            "text/plain": [
              "  beer_type  beer_abv\n",
              "0       ipa       9.7\n",
              "1       ipa       7.0\n",
              "2     stout      10.0\n",
              "3       ale       5.5\n",
              "4       ale       6.0"
            ]
          },
          "metadata": {
            "tags": []
          },
          "execution_count": 41
        }
      ]
    },
    {
      "cell_type": "code",
      "metadata": {
        "id": "Nv6rEwtGPPEq",
        "colab_type": "code",
        "colab": {}
      },
      "source": [
        "# \"dummy\" variables convert categories into 0/1 columns\n",
        "# a.k.a. \"one-hot encoding\""
      ],
      "execution_count": null,
      "outputs": []
    },
    {
      "cell_type": "code",
      "metadata": {
        "id": "EeLMTVX4PPEs",
        "colab_type": "code",
        "colab": {
          "base_uri": "https://localhost:8080/",
          "height": 233
        },
        "outputId": "06387242-0345-4466-d132-fbaf3ec2480c"
      },
      "source": [
        "# Let's convert 'beer_style' into dummy columnsw\n",
        "beer_dummies = pd.get_dummies(beers2, columns=['beer_type'], prefix='', prefix_sep='')\n",
        "print(beer_dummies.shape)\n",
        "print(len(beers['beer_type'].value_counts()))\n",
        "beer_dummies.head(5)"
      ],
      "execution_count": null,
      "outputs": [
        {
          "output_type": "stream",
          "text": [
            "(4640, 8)\n",
            "7\n"
          ],
          "name": "stdout"
        },
        {
          "output_type": "execute_result",
          "data": {
            "text/html": [
              "<div>\n",
              "<style scoped>\n",
              "    .dataframe tbody tr th:only-of-type {\n",
              "        vertical-align: middle;\n",
              "    }\n",
              "\n",
              "    .dataframe tbody tr th {\n",
              "        vertical-align: top;\n",
              "    }\n",
              "\n",
              "    .dataframe thead th {\n",
              "        text-align: right;\n",
              "    }\n",
              "</style>\n",
              "<table border=\"1\" class=\"dataframe\">\n",
              "  <thead>\n",
              "    <tr style=\"text-align: right;\">\n",
              "      <th></th>\n",
              "      <th>beer_abv</th>\n",
              "      <th>ale</th>\n",
              "      <th>ipa</th>\n",
              "      <th>lager</th>\n",
              "      <th>other</th>\n",
              "      <th>pilsner</th>\n",
              "      <th>porter</th>\n",
              "      <th>stout</th>\n",
              "    </tr>\n",
              "  </thead>\n",
              "  <tbody>\n",
              "    <tr>\n",
              "      <th>0</th>\n",
              "      <td>9.7</td>\n",
              "      <td>0</td>\n",
              "      <td>1</td>\n",
              "      <td>0</td>\n",
              "      <td>0</td>\n",
              "      <td>0</td>\n",
              "      <td>0</td>\n",
              "      <td>0</td>\n",
              "    </tr>\n",
              "    <tr>\n",
              "      <th>1</th>\n",
              "      <td>7.0</td>\n",
              "      <td>0</td>\n",
              "      <td>1</td>\n",
              "      <td>0</td>\n",
              "      <td>0</td>\n",
              "      <td>0</td>\n",
              "      <td>0</td>\n",
              "      <td>0</td>\n",
              "    </tr>\n",
              "    <tr>\n",
              "      <th>2</th>\n",
              "      <td>10.0</td>\n",
              "      <td>0</td>\n",
              "      <td>0</td>\n",
              "      <td>0</td>\n",
              "      <td>0</td>\n",
              "      <td>0</td>\n",
              "      <td>0</td>\n",
              "      <td>1</td>\n",
              "    </tr>\n",
              "    <tr>\n",
              "      <th>3</th>\n",
              "      <td>5.5</td>\n",
              "      <td>1</td>\n",
              "      <td>0</td>\n",
              "      <td>0</td>\n",
              "      <td>0</td>\n",
              "      <td>0</td>\n",
              "      <td>0</td>\n",
              "      <td>0</td>\n",
              "    </tr>\n",
              "    <tr>\n",
              "      <th>4</th>\n",
              "      <td>6.0</td>\n",
              "      <td>1</td>\n",
              "      <td>0</td>\n",
              "      <td>0</td>\n",
              "      <td>0</td>\n",
              "      <td>0</td>\n",
              "      <td>0</td>\n",
              "      <td>0</td>\n",
              "    </tr>\n",
              "  </tbody>\n",
              "</table>\n",
              "</div>"
            ],
            "text/plain": [
              "   beer_abv  ale  ipa  lager  other  pilsner  porter  stout\n",
              "0       9.7    0    1      0      0        0       0      0\n",
              "1       7.0    0    1      0      0        0       0      0\n",
              "2      10.0    0    0      0      0        0       0      1\n",
              "3       5.5    1    0      0      0        0       0      0\n",
              "4       6.0    1    0      0      0        0       0      0"
            ]
          },
          "metadata": {
            "tags": []
          },
          "execution_count": 43
        }
      ]
    },
    {
      "cell_type": "code",
      "metadata": {
        "id": "7Y0G3N5-5_4e",
        "colab_type": "code",
        "colab": {
          "base_uri": "https://localhost:8080/",
          "height": 215
        },
        "outputId": "3eb85348-6170-43f7-b94f-6533c01776a3"
      },
      "source": [
        "# Let's shrink our dataset\n",
        "beers2 = beers[['beer_style', 'beer_abv']]\n",
        "print(beers2.shape)\n",
        "beers2.head()"
      ],
      "execution_count": null,
      "outputs": [
        {
          "output_type": "stream",
          "text": [
            "(4640, 2)\n"
          ],
          "name": "stdout"
        },
        {
          "output_type": "execute_result",
          "data": {
            "text/html": [
              "<div>\n",
              "<style scoped>\n",
              "    .dataframe tbody tr th:only-of-type {\n",
              "        vertical-align: middle;\n",
              "    }\n",
              "\n",
              "    .dataframe tbody tr th {\n",
              "        vertical-align: top;\n",
              "    }\n",
              "\n",
              "    .dataframe thead th {\n",
              "        text-align: right;\n",
              "    }\n",
              "</style>\n",
              "<table border=\"1\" class=\"dataframe\">\n",
              "  <thead>\n",
              "    <tr style=\"text-align: right;\">\n",
              "      <th></th>\n",
              "      <th>beer_style</th>\n",
              "      <th>beer_abv</th>\n",
              "    </tr>\n",
              "  </thead>\n",
              "  <tbody>\n",
              "    <tr>\n",
              "      <th>0</th>\n",
              "      <td>American Double / Imperial IPA</td>\n",
              "      <td>9.7</td>\n",
              "    </tr>\n",
              "    <tr>\n",
              "      <th>1</th>\n",
              "      <td>American IPA</td>\n",
              "      <td>7.0</td>\n",
              "    </tr>\n",
              "    <tr>\n",
              "      <th>2</th>\n",
              "      <td>Russian Imperial Stout</td>\n",
              "      <td>10.0</td>\n",
              "    </tr>\n",
              "    <tr>\n",
              "      <th>3</th>\n",
              "      <td>American Pale Ale (APA)</td>\n",
              "      <td>5.5</td>\n",
              "    </tr>\n",
              "    <tr>\n",
              "      <th>4</th>\n",
              "      <td>American Pale Ale (APA)</td>\n",
              "      <td>6.0</td>\n",
              "    </tr>\n",
              "  </tbody>\n",
              "</table>\n",
              "</div>"
            ],
            "text/plain": [
              "                       beer_style  beer_abv\n",
              "0  American Double / Imperial IPA       9.7\n",
              "1                    American IPA       7.0\n",
              "2          Russian Imperial Stout      10.0\n",
              "3         American Pale Ale (APA)       5.5\n",
              "4         American Pale Ale (APA)       6.0"
            ]
          },
          "metadata": {
            "tags": []
          },
          "execution_count": 44
        }
      ]
    },
    {
      "cell_type": "code",
      "metadata": {
        "id": "tL0VB-gI6CJA",
        "colab_type": "code",
        "colab": {
          "base_uri": "https://localhost:8080/",
          "height": 351
        },
        "outputId": "2ffaf424-ad07-467f-a6f0-8d76bf06416b"
      },
      "source": [
        "# Let's convert 'beer_style' into dummy columnsw\n",
        "beer_dummies = pd.get_dummies(beers2, columns=['beer_style'], prefix='', prefix_sep='')\n",
        "print(beer_dummies.shape)\n",
        "print(len(beers['beer_style'].value_counts()))\n",
        "beer_dummies.head(5)"
      ],
      "execution_count": null,
      "outputs": [
        {
          "output_type": "stream",
          "text": [
            "(4640, 99)\n",
            "98\n"
          ],
          "name": "stdout"
        },
        {
          "output_type": "execute_result",
          "data": {
            "text/html": [
              "<div>\n",
              "<style scoped>\n",
              "    .dataframe tbody tr th:only-of-type {\n",
              "        vertical-align: middle;\n",
              "    }\n",
              "\n",
              "    .dataframe tbody tr th {\n",
              "        vertical-align: top;\n",
              "    }\n",
              "\n",
              "    .dataframe thead th {\n",
              "        text-align: right;\n",
              "    }\n",
              "</style>\n",
              "<table border=\"1\" class=\"dataframe\">\n",
              "  <thead>\n",
              "    <tr style=\"text-align: right;\">\n",
              "      <th></th>\n",
              "      <th>beer_abv</th>\n",
              "      <th>Altbier</th>\n",
              "      <th>American Adjunct Lager</th>\n",
              "      <th>American Amber / Red Ale</th>\n",
              "      <th>American Amber / Red Lager</th>\n",
              "      <th>American Barleywine</th>\n",
              "      <th>American Black Ale</th>\n",
              "      <th>American Blonde Ale</th>\n",
              "      <th>American Brown Ale</th>\n",
              "      <th>American Dark Wheat Ale</th>\n",
              "      <th>American Double / Imperial IPA</th>\n",
              "      <th>American Double / Imperial Pilsner</th>\n",
              "      <th>American Double / Imperial Stout</th>\n",
              "      <th>American IPA</th>\n",
              "      <th>American Malt Liquor</th>\n",
              "      <th>American Pale Ale (APA)</th>\n",
              "      <th>American Pale Lager</th>\n",
              "      <th>American Pale Wheat Ale</th>\n",
              "      <th>American Porter</th>\n",
              "      <th>American Stout</th>\n",
              "      <th>American Strong Ale</th>\n",
              "      <th>American Wild Ale</th>\n",
              "      <th>Baltic Porter</th>\n",
              "      <th>Belgian Dark Ale</th>\n",
              "      <th>Belgian IPA</th>\n",
              "      <th>Belgian Pale Ale</th>\n",
              "      <th>Belgian Strong Dark Ale</th>\n",
              "      <th>Belgian Strong Pale Ale</th>\n",
              "      <th>Berliner Weissbier</th>\n",
              "      <th>Bière de Garde</th>\n",
              "      <th>Black &amp; Tan</th>\n",
              "      <th>Bock</th>\n",
              "      <th>Braggot</th>\n",
              "      <th>California Common / Steam Beer</th>\n",
              "      <th>Chile Beer</th>\n",
              "      <th>Cream Ale</th>\n",
              "      <th>Czech Pilsener</th>\n",
              "      <th>Doppelbock</th>\n",
              "      <th>Dortmunder / Export Lager</th>\n",
              "      <th>Dubbel</th>\n",
              "      <th>...</th>\n",
              "      <th>Fruit / Vegetable Beer</th>\n",
              "      <th>German Pilsener</th>\n",
              "      <th>Gose</th>\n",
              "      <th>Hefeweizen</th>\n",
              "      <th>Herbed / Spiced Beer</th>\n",
              "      <th>Irish Dry Stout</th>\n",
              "      <th>Irish Red Ale</th>\n",
              "      <th>Japanese Rice Lager</th>\n",
              "      <th>Keller Bier / Zwickel Bier</th>\n",
              "      <th>Kristalweizen</th>\n",
              "      <th>Kölsch</th>\n",
              "      <th>Lambic - Fruit</th>\n",
              "      <th>Lambic - Unblended</th>\n",
              "      <th>Light Lager</th>\n",
              "      <th>Low Alcohol Beer</th>\n",
              "      <th>Maibock / Helles Bock</th>\n",
              "      <th>Milk / Sweet Stout</th>\n",
              "      <th>Munich Dunkel Lager</th>\n",
              "      <th>Munich Helles Lager</th>\n",
              "      <th>Märzen / Oktoberfest</th>\n",
              "      <th>Oatmeal Stout</th>\n",
              "      <th>Old Ale</th>\n",
              "      <th>Pumpkin Ale</th>\n",
              "      <th>Quadrupel (Quad)</th>\n",
              "      <th>Rauchbier</th>\n",
              "      <th>Roggenbier</th>\n",
              "      <th>Russian Imperial Stout</th>\n",
              "      <th>Rye Beer</th>\n",
              "      <th>Saison / Farmhouse Ale</th>\n",
              "      <th>Schwarzbier</th>\n",
              "      <th>Scotch Ale / Wee Heavy</th>\n",
              "      <th>Scottish Ale</th>\n",
              "      <th>Scottish Gruit / Ancient Herbed Ale</th>\n",
              "      <th>Smoked Beer</th>\n",
              "      <th>Tripel</th>\n",
              "      <th>Vienna Lager</th>\n",
              "      <th>Weizenbock</th>\n",
              "      <th>Wheatwine</th>\n",
              "      <th>Winter Warmer</th>\n",
              "      <th>Witbier</th>\n",
              "    </tr>\n",
              "  </thead>\n",
              "  <tbody>\n",
              "    <tr>\n",
              "      <th>0</th>\n",
              "      <td>9.7</td>\n",
              "      <td>0</td>\n",
              "      <td>0</td>\n",
              "      <td>0</td>\n",
              "      <td>0</td>\n",
              "      <td>0</td>\n",
              "      <td>0</td>\n",
              "      <td>0</td>\n",
              "      <td>0</td>\n",
              "      <td>0</td>\n",
              "      <td>1</td>\n",
              "      <td>0</td>\n",
              "      <td>0</td>\n",
              "      <td>0</td>\n",
              "      <td>0</td>\n",
              "      <td>0</td>\n",
              "      <td>0</td>\n",
              "      <td>0</td>\n",
              "      <td>0</td>\n",
              "      <td>0</td>\n",
              "      <td>0</td>\n",
              "      <td>0</td>\n",
              "      <td>0</td>\n",
              "      <td>0</td>\n",
              "      <td>0</td>\n",
              "      <td>0</td>\n",
              "      <td>0</td>\n",
              "      <td>0</td>\n",
              "      <td>0</td>\n",
              "      <td>0</td>\n",
              "      <td>0</td>\n",
              "      <td>0</td>\n",
              "      <td>0</td>\n",
              "      <td>0</td>\n",
              "      <td>0</td>\n",
              "      <td>0</td>\n",
              "      <td>0</td>\n",
              "      <td>0</td>\n",
              "      <td>0</td>\n",
              "      <td>0</td>\n",
              "      <td>...</td>\n",
              "      <td>0</td>\n",
              "      <td>0</td>\n",
              "      <td>0</td>\n",
              "      <td>0</td>\n",
              "      <td>0</td>\n",
              "      <td>0</td>\n",
              "      <td>0</td>\n",
              "      <td>0</td>\n",
              "      <td>0</td>\n",
              "      <td>0</td>\n",
              "      <td>0</td>\n",
              "      <td>0</td>\n",
              "      <td>0</td>\n",
              "      <td>0</td>\n",
              "      <td>0</td>\n",
              "      <td>0</td>\n",
              "      <td>0</td>\n",
              "      <td>0</td>\n",
              "      <td>0</td>\n",
              "      <td>0</td>\n",
              "      <td>0</td>\n",
              "      <td>0</td>\n",
              "      <td>0</td>\n",
              "      <td>0</td>\n",
              "      <td>0</td>\n",
              "      <td>0</td>\n",
              "      <td>0</td>\n",
              "      <td>0</td>\n",
              "      <td>0</td>\n",
              "      <td>0</td>\n",
              "      <td>0</td>\n",
              "      <td>0</td>\n",
              "      <td>0</td>\n",
              "      <td>0</td>\n",
              "      <td>0</td>\n",
              "      <td>0</td>\n",
              "      <td>0</td>\n",
              "      <td>0</td>\n",
              "      <td>0</td>\n",
              "      <td>0</td>\n",
              "    </tr>\n",
              "    <tr>\n",
              "      <th>1</th>\n",
              "      <td>7.0</td>\n",
              "      <td>0</td>\n",
              "      <td>0</td>\n",
              "      <td>0</td>\n",
              "      <td>0</td>\n",
              "      <td>0</td>\n",
              "      <td>0</td>\n",
              "      <td>0</td>\n",
              "      <td>0</td>\n",
              "      <td>0</td>\n",
              "      <td>0</td>\n",
              "      <td>0</td>\n",
              "      <td>0</td>\n",
              "      <td>1</td>\n",
              "      <td>0</td>\n",
              "      <td>0</td>\n",
              "      <td>0</td>\n",
              "      <td>0</td>\n",
              "      <td>0</td>\n",
              "      <td>0</td>\n",
              "      <td>0</td>\n",
              "      <td>0</td>\n",
              "      <td>0</td>\n",
              "      <td>0</td>\n",
              "      <td>0</td>\n",
              "      <td>0</td>\n",
              "      <td>0</td>\n",
              "      <td>0</td>\n",
              "      <td>0</td>\n",
              "      <td>0</td>\n",
              "      <td>0</td>\n",
              "      <td>0</td>\n",
              "      <td>0</td>\n",
              "      <td>0</td>\n",
              "      <td>0</td>\n",
              "      <td>0</td>\n",
              "      <td>0</td>\n",
              "      <td>0</td>\n",
              "      <td>0</td>\n",
              "      <td>0</td>\n",
              "      <td>...</td>\n",
              "      <td>0</td>\n",
              "      <td>0</td>\n",
              "      <td>0</td>\n",
              "      <td>0</td>\n",
              "      <td>0</td>\n",
              "      <td>0</td>\n",
              "      <td>0</td>\n",
              "      <td>0</td>\n",
              "      <td>0</td>\n",
              "      <td>0</td>\n",
              "      <td>0</td>\n",
              "      <td>0</td>\n",
              "      <td>0</td>\n",
              "      <td>0</td>\n",
              "      <td>0</td>\n",
              "      <td>0</td>\n",
              "      <td>0</td>\n",
              "      <td>0</td>\n",
              "      <td>0</td>\n",
              "      <td>0</td>\n",
              "      <td>0</td>\n",
              "      <td>0</td>\n",
              "      <td>0</td>\n",
              "      <td>0</td>\n",
              "      <td>0</td>\n",
              "      <td>0</td>\n",
              "      <td>0</td>\n",
              "      <td>0</td>\n",
              "      <td>0</td>\n",
              "      <td>0</td>\n",
              "      <td>0</td>\n",
              "      <td>0</td>\n",
              "      <td>0</td>\n",
              "      <td>0</td>\n",
              "      <td>0</td>\n",
              "      <td>0</td>\n",
              "      <td>0</td>\n",
              "      <td>0</td>\n",
              "      <td>0</td>\n",
              "      <td>0</td>\n",
              "    </tr>\n",
              "    <tr>\n",
              "      <th>2</th>\n",
              "      <td>10.0</td>\n",
              "      <td>0</td>\n",
              "      <td>0</td>\n",
              "      <td>0</td>\n",
              "      <td>0</td>\n",
              "      <td>0</td>\n",
              "      <td>0</td>\n",
              "      <td>0</td>\n",
              "      <td>0</td>\n",
              "      <td>0</td>\n",
              "      <td>0</td>\n",
              "      <td>0</td>\n",
              "      <td>0</td>\n",
              "      <td>0</td>\n",
              "      <td>0</td>\n",
              "      <td>0</td>\n",
              "      <td>0</td>\n",
              "      <td>0</td>\n",
              "      <td>0</td>\n",
              "      <td>0</td>\n",
              "      <td>0</td>\n",
              "      <td>0</td>\n",
              "      <td>0</td>\n",
              "      <td>0</td>\n",
              "      <td>0</td>\n",
              "      <td>0</td>\n",
              "      <td>0</td>\n",
              "      <td>0</td>\n",
              "      <td>0</td>\n",
              "      <td>0</td>\n",
              "      <td>0</td>\n",
              "      <td>0</td>\n",
              "      <td>0</td>\n",
              "      <td>0</td>\n",
              "      <td>0</td>\n",
              "      <td>0</td>\n",
              "      <td>0</td>\n",
              "      <td>0</td>\n",
              "      <td>0</td>\n",
              "      <td>0</td>\n",
              "      <td>...</td>\n",
              "      <td>0</td>\n",
              "      <td>0</td>\n",
              "      <td>0</td>\n",
              "      <td>0</td>\n",
              "      <td>0</td>\n",
              "      <td>0</td>\n",
              "      <td>0</td>\n",
              "      <td>0</td>\n",
              "      <td>0</td>\n",
              "      <td>0</td>\n",
              "      <td>0</td>\n",
              "      <td>0</td>\n",
              "      <td>0</td>\n",
              "      <td>0</td>\n",
              "      <td>0</td>\n",
              "      <td>0</td>\n",
              "      <td>0</td>\n",
              "      <td>0</td>\n",
              "      <td>0</td>\n",
              "      <td>0</td>\n",
              "      <td>0</td>\n",
              "      <td>0</td>\n",
              "      <td>0</td>\n",
              "      <td>0</td>\n",
              "      <td>0</td>\n",
              "      <td>0</td>\n",
              "      <td>1</td>\n",
              "      <td>0</td>\n",
              "      <td>0</td>\n",
              "      <td>0</td>\n",
              "      <td>0</td>\n",
              "      <td>0</td>\n",
              "      <td>0</td>\n",
              "      <td>0</td>\n",
              "      <td>0</td>\n",
              "      <td>0</td>\n",
              "      <td>0</td>\n",
              "      <td>0</td>\n",
              "      <td>0</td>\n",
              "      <td>0</td>\n",
              "    </tr>\n",
              "    <tr>\n",
              "      <th>3</th>\n",
              "      <td>5.5</td>\n",
              "      <td>0</td>\n",
              "      <td>0</td>\n",
              "      <td>0</td>\n",
              "      <td>0</td>\n",
              "      <td>0</td>\n",
              "      <td>0</td>\n",
              "      <td>0</td>\n",
              "      <td>0</td>\n",
              "      <td>0</td>\n",
              "      <td>0</td>\n",
              "      <td>0</td>\n",
              "      <td>0</td>\n",
              "      <td>0</td>\n",
              "      <td>0</td>\n",
              "      <td>1</td>\n",
              "      <td>0</td>\n",
              "      <td>0</td>\n",
              "      <td>0</td>\n",
              "      <td>0</td>\n",
              "      <td>0</td>\n",
              "      <td>0</td>\n",
              "      <td>0</td>\n",
              "      <td>0</td>\n",
              "      <td>0</td>\n",
              "      <td>0</td>\n",
              "      <td>0</td>\n",
              "      <td>0</td>\n",
              "      <td>0</td>\n",
              "      <td>0</td>\n",
              "      <td>0</td>\n",
              "      <td>0</td>\n",
              "      <td>0</td>\n",
              "      <td>0</td>\n",
              "      <td>0</td>\n",
              "      <td>0</td>\n",
              "      <td>0</td>\n",
              "      <td>0</td>\n",
              "      <td>0</td>\n",
              "      <td>0</td>\n",
              "      <td>...</td>\n",
              "      <td>0</td>\n",
              "      <td>0</td>\n",
              "      <td>0</td>\n",
              "      <td>0</td>\n",
              "      <td>0</td>\n",
              "      <td>0</td>\n",
              "      <td>0</td>\n",
              "      <td>0</td>\n",
              "      <td>0</td>\n",
              "      <td>0</td>\n",
              "      <td>0</td>\n",
              "      <td>0</td>\n",
              "      <td>0</td>\n",
              "      <td>0</td>\n",
              "      <td>0</td>\n",
              "      <td>0</td>\n",
              "      <td>0</td>\n",
              "      <td>0</td>\n",
              "      <td>0</td>\n",
              "      <td>0</td>\n",
              "      <td>0</td>\n",
              "      <td>0</td>\n",
              "      <td>0</td>\n",
              "      <td>0</td>\n",
              "      <td>0</td>\n",
              "      <td>0</td>\n",
              "      <td>0</td>\n",
              "      <td>0</td>\n",
              "      <td>0</td>\n",
              "      <td>0</td>\n",
              "      <td>0</td>\n",
              "      <td>0</td>\n",
              "      <td>0</td>\n",
              "      <td>0</td>\n",
              "      <td>0</td>\n",
              "      <td>0</td>\n",
              "      <td>0</td>\n",
              "      <td>0</td>\n",
              "      <td>0</td>\n",
              "      <td>0</td>\n",
              "    </tr>\n",
              "    <tr>\n",
              "      <th>4</th>\n",
              "      <td>6.0</td>\n",
              "      <td>0</td>\n",
              "      <td>0</td>\n",
              "      <td>0</td>\n",
              "      <td>0</td>\n",
              "      <td>0</td>\n",
              "      <td>0</td>\n",
              "      <td>0</td>\n",
              "      <td>0</td>\n",
              "      <td>0</td>\n",
              "      <td>0</td>\n",
              "      <td>0</td>\n",
              "      <td>0</td>\n",
              "      <td>0</td>\n",
              "      <td>0</td>\n",
              "      <td>1</td>\n",
              "      <td>0</td>\n",
              "      <td>0</td>\n",
              "      <td>0</td>\n",
              "      <td>0</td>\n",
              "      <td>0</td>\n",
              "      <td>0</td>\n",
              "      <td>0</td>\n",
              "      <td>0</td>\n",
              "      <td>0</td>\n",
              "      <td>0</td>\n",
              "      <td>0</td>\n",
              "      <td>0</td>\n",
              "      <td>0</td>\n",
              "      <td>0</td>\n",
              "      <td>0</td>\n",
              "      <td>0</td>\n",
              "      <td>0</td>\n",
              "      <td>0</td>\n",
              "      <td>0</td>\n",
              "      <td>0</td>\n",
              "      <td>0</td>\n",
              "      <td>0</td>\n",
              "      <td>0</td>\n",
              "      <td>0</td>\n",
              "      <td>...</td>\n",
              "      <td>0</td>\n",
              "      <td>0</td>\n",
              "      <td>0</td>\n",
              "      <td>0</td>\n",
              "      <td>0</td>\n",
              "      <td>0</td>\n",
              "      <td>0</td>\n",
              "      <td>0</td>\n",
              "      <td>0</td>\n",
              "      <td>0</td>\n",
              "      <td>0</td>\n",
              "      <td>0</td>\n",
              "      <td>0</td>\n",
              "      <td>0</td>\n",
              "      <td>0</td>\n",
              "      <td>0</td>\n",
              "      <td>0</td>\n",
              "      <td>0</td>\n",
              "      <td>0</td>\n",
              "      <td>0</td>\n",
              "      <td>0</td>\n",
              "      <td>0</td>\n",
              "      <td>0</td>\n",
              "      <td>0</td>\n",
              "      <td>0</td>\n",
              "      <td>0</td>\n",
              "      <td>0</td>\n",
              "      <td>0</td>\n",
              "      <td>0</td>\n",
              "      <td>0</td>\n",
              "      <td>0</td>\n",
              "      <td>0</td>\n",
              "      <td>0</td>\n",
              "      <td>0</td>\n",
              "      <td>0</td>\n",
              "      <td>0</td>\n",
              "      <td>0</td>\n",
              "      <td>0</td>\n",
              "      <td>0</td>\n",
              "      <td>0</td>\n",
              "    </tr>\n",
              "  </tbody>\n",
              "</table>\n",
              "<p>5 rows × 99 columns</p>\n",
              "</div>"
            ],
            "text/plain": [
              "   beer_abv  Altbier  American Adjunct Lager  ...  Wheatwine  Winter Warmer  Witbier\n",
              "0       9.7        0                       0  ...          0              0        0\n",
              "1       7.0        0                       0  ...          0              0        0\n",
              "2      10.0        0                       0  ...          0              0        0\n",
              "3       5.5        0                       0  ...          0              0        0\n",
              "4       6.0        0                       0  ...          0              0        0\n",
              "\n",
              "[5 rows x 99 columns]"
            ]
          },
          "metadata": {
            "tags": []
          },
          "execution_count": 45
        }
      ]
    },
    {
      "cell_type": "code",
      "metadata": {
        "id": "FBYjAgBEPPEx",
        "colab_type": "code",
        "colab": {}
      },
      "source": [
        "# How would we use use this?"
      ],
      "execution_count": null,
      "outputs": []
    },
    {
      "cell_type": "code",
      "metadata": {
        "id": "mT8FK7RhPPE0",
        "colab_type": "code",
        "colab": {}
      },
      "source": [
        "from sklearn.model_selection import train_test_split\n",
        "from sklearn.linear_model import LinearRegression"
      ],
      "execution_count": null,
      "outputs": []
    },
    {
      "cell_type": "code",
      "metadata": {
        "id": "4eRnUAtYTiZw",
        "colab_type": "code",
        "colab": {
          "base_uri": "https://localhost:8080/",
          "height": 72
        },
        "outputId": "5e27ceee-2ebf-4cb2-c49a-8ec11b976555"
      },
      "source": [
        "import matplotlib.pyplot as plt\n",
        "%matplotlib inline\n",
        "import seaborn as sns"
      ],
      "execution_count": null,
      "outputs": [
        {
          "output_type": "stream",
          "text": [
            "/usr/local/lib/python3.6/dist-packages/statsmodels/tools/_testing.py:19: FutureWarning: pandas.util.testing is deprecated. Use the functions in the public API at pandas.testing instead.\n",
            "  import pandas.util.testing as tm\n"
          ],
          "name": "stderr"
        }
      ]
    },
    {
      "cell_type": "code",
      "metadata": {
        "id": "nMQgH6VIPPE5",
        "colab_type": "code",
        "colab": {}
      },
      "source": [
        "y = beer_dummies['beer_abv']\n",
        "X = beer_dummies.drop(['beer_abv'], axis=1)"
      ],
      "execution_count": null,
      "outputs": []
    },
    {
      "cell_type": "code",
      "metadata": {
        "id": "tuJJ-SHtPPE7",
        "colab_type": "code",
        "colab": {}
      },
      "source": [
        "X_train, X_test, y_train, y_test = train_test_split(X, y, test_size=0.3)"
      ],
      "execution_count": null,
      "outputs": []
    },
    {
      "cell_type": "code",
      "metadata": {
        "id": "ddtDc7glPPE-",
        "colab_type": "code",
        "colab": {
          "base_uri": "https://localhost:8080/",
          "height": 35
        },
        "outputId": "e4fb99a6-4b0f-4904-f290-83ac1f3559ab"
      },
      "source": [
        "linreg = LinearRegression()\n",
        "linreg.fit(X_train, y_train)"
      ],
      "execution_count": null,
      "outputs": [
        {
          "output_type": "execute_result",
          "data": {
            "text/plain": [
              "LinearRegression(copy_X=True, fit_intercept=True, n_jobs=None, normalize=False)"
            ]
          },
          "metadata": {
            "tags": []
          },
          "execution_count": 47
        }
      ]
    },
    {
      "cell_type": "code",
      "metadata": {
        "id": "XwffwyBqPPFB",
        "colab_type": "code",
        "colab": {}
      },
      "source": [
        "y_pred = linreg.predict(X_test)"
      ],
      "execution_count": null,
      "outputs": []
    },
    {
      "cell_type": "code",
      "metadata": {
        "id": "FJHia9jZ7u9s",
        "colab_type": "code",
        "colab": {
          "base_uri": "https://localhost:8080/",
          "height": 52
        },
        "outputId": "087c0544-a8a0-4d58-e773-f12d5fe9c106"
      },
      "source": [
        "y_pred[:10]"
      ],
      "execution_count": null,
      "outputs": [
        {
          "output_type": "execute_result",
          "data": {
            "text/plain": [
              "array([3.96679688, 6.50585938, 5.95898438, 6.62695312, 5.80664062,\n",
              "       5.15234375, 5.15234375, 6.78515625, 9.57617188, 5.95898438])"
            ]
          },
          "metadata": {
            "tags": []
          },
          "execution_count": 50
        }
      ]
    },
    {
      "cell_type": "code",
      "metadata": {
        "id": "s5V-LsaS7x2m",
        "colab_type": "code",
        "colab": {
          "base_uri": "https://localhost:8080/",
          "height": 35
        },
        "outputId": "653579bb-c018-4504-aa5d-d7b13500963f"
      },
      "source": [
        "list(y_test[:10])"
      ],
      "execution_count": null,
      "outputs": [
        {
          "output_type": "execute_result",
          "data": {
            "text/plain": [
              "[3.7, 7.0, 6.8, 6.0, 8.67, 4.9, 5.0, 9.2, 10.2, 5.0]"
            ]
          },
          "metadata": {
            "tags": []
          },
          "execution_count": 52
        }
      ]
    },
    {
      "cell_type": "code",
      "metadata": {
        "id": "IiQ534Y_PPFD",
        "colab_type": "code",
        "colab": {
          "base_uri": "https://localhost:8080/",
          "height": 282
        },
        "outputId": "f497c3de-3709-4104-fa98-76b52e93725d"
      },
      "source": [
        "sns.regplot(x=np.array(y_pred[:100]), y=np.array(y_test[:100]))"
      ],
      "execution_count": null,
      "outputs": [
        {
          "output_type": "execute_result",
          "data": {
            "text/plain": [
              "<matplotlib.axes._subplots.AxesSubplot at 0x7f80bd9b5b70>"
            ]
          },
          "metadata": {
            "tags": []
          },
          "execution_count": 64
        },
        {
          "output_type": "display_data",
          "data": {
            "image/png": "[encoded data removed]",
            "text/plain": [
              "<Figure size 432x288 with 1 Axes>"
            ]
          },
          "metadata": {
            "tags": [],
            "needs_background": "light"
          }
        }
      ]
    },
    {
      "cell_type": "code",
      "metadata": {
        "id": "qpiyTPHMPPFH",
        "colab_type": "code",
        "colab": {
          "base_uri": "https://localhost:8080/",
          "height": 52
        },
        "outputId": "ca7d7164-114b-4f95-ebdf-bc5c7575ac7c"
      },
      "source": [
        "import numpy as np\n",
        "np.array(y_pred)"
      ],
      "execution_count": null,
      "outputs": [
        {
          "output_type": "execute_result",
          "data": {
            "text/plain": [
              "array([3.96679688, 6.50585938, 5.95898438, ..., 5.80664062, 6.64257812,\n",
              "       5.37109375])"
            ]
          },
          "metadata": {
            "tags": []
          },
          "execution_count": 58
        }
      ]
    },
    {
      "cell_type": "code",
      "metadata": {
        "id": "-0e8Q36I8I5B",
        "colab_type": "code",
        "colab": {
          "base_uri": "https://localhost:8080/",
          "height": 35
        },
        "outputId": "25839f01-24aa-4638-931a-ed508129397c"
      },
      "source": [
        "np.array(y_pred).max()"
      ],
      "execution_count": null,
      "outputs": [
        {
          "output_type": "execute_result",
          "data": {
            "text/plain": [
              "9198308484464.951"
            ]
          },
          "metadata": {
            "tags": []
          },
          "execution_count": 62
        }
      ]
    },
    {
      "cell_type": "code",
      "metadata": {
        "id": "n5QgTYjN8VdS",
        "colab_type": "code",
        "colab": {
          "base_uri": "https://localhost:8080/",
          "height": 35
        },
        "outputId": "df8709cb-0199-4cd3-9473-84e1bb866961"
      },
      "source": [
        "np.array(y_test).mean()"
      ],
      "execution_count": null,
      "outputs": [
        {
          "output_type": "execute_result",
          "data": {
            "text/plain": [
              "6.814640804597701"
            ]
          },
          "metadata": {
            "tags": []
          },
          "execution_count": 61
        }
      ]
    },
    {
      "cell_type": "code",
      "metadata": {
        "id": "XVhNXbct8YBe",
        "colab_type": "code",
        "colab": {}
      },
      "source": [
        ""
      ],
      "execution_count": null,
      "outputs": []
    }
  ]
}